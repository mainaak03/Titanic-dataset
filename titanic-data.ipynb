{
 "cells": [
  {
   "cell_type": "code",
   "execution_count": 1,
   "id": "74a048bd",
   "metadata": {
    "_cell_guid": "b1076dfc-b9ad-4769-8c92-a6c4dae69d19",
    "_uuid": "8f2839f25d086af736a60e9eeb907d3b93b6e0e5",
    "execution": {
     "iopub.execute_input": "2022-12-10T20:34:47.424084Z",
     "iopub.status.busy": "2022-12-10T20:34:47.423148Z",
     "iopub.status.idle": "2022-12-10T20:34:47.434508Z",
     "shell.execute_reply": "2022-12-10T20:34:47.433638Z"
    },
    "papermill": {
     "duration": 0.020703,
     "end_time": "2022-12-10T20:34:47.437188",
     "exception": false,
     "start_time": "2022-12-10T20:34:47.416485",
     "status": "completed"
    },
    "tags": []
   },
   "outputs": [
    {
     "name": "stdout",
     "output_type": "stream",
     "text": [
      "/kaggle/input/titanic/train.csv\n",
      "/kaggle/input/titanic/test.csv\n",
      "/kaggle/input/titanic/gender_submission.csv\n"
     ]
    }
   ],
   "source": [
    "# This Python 3 environment comes with many helpful analytics libraries installed\n",
    "# It is defined by the kaggle/python Docker image: https://github.com/kaggle/docker-python\n",
    "# For example, here's several helpful packages to load\n",
    "\n",
    "import numpy as np # linear algebra\n",
    "import pandas as pd # data processing, CSV file I/O (e.g. pd.read_csv)\n",
    "\n",
    "# Input data files are available in the read-only \"../input/\" directory\n",
    "# For example, running this (by clicking run or pressing Shift+Enter) will list all files under the input directory\n",
    "\n",
    "import os\n",
    "for dirname, _, filenames in os.walk('/kaggle/input'):\n",
    "    for filename in filenames:\n",
    "        print(os.path.join(dirname, filename))\n",
    "\n",
    "# You can write up to 20GB to the current directory (/kaggle/working/) that gets preserved as output when you create a version using \"Save & Run All\" \n",
    "# You can also write temporary files to /kaggle/temp/, but they won't be saved outside of the current session"
   ]
  },
  {
   "cell_type": "code",
   "execution_count": 2,
   "id": "19854a5b",
   "metadata": {
    "execution": {
     "iopub.execute_input": "2022-12-10T20:34:47.448787Z",
     "iopub.status.busy": "2022-12-10T20:34:47.448201Z",
     "iopub.status.idle": "2022-12-10T20:34:48.751863Z",
     "shell.execute_reply": "2022-12-10T20:34:48.750622Z"
    },
    "papermill": {
     "duration": 1.311663,
     "end_time": "2022-12-10T20:34:48.754095",
     "exception": false,
     "start_time": "2022-12-10T20:34:47.442432",
     "status": "completed"
    },
    "tags": []
   },
   "outputs": [],
   "source": [
    "from sklearn.tree import DecisionTreeRegressor\n",
    "from sklearn.ensemble import RandomForestRegressor\n",
    "from sklearn.metrics import mean_absolute_error"
   ]
  },
  {
   "cell_type": "code",
   "execution_count": 3,
   "id": "a8855352",
   "metadata": {
    "execution": {
     "iopub.execute_input": "2022-12-10T20:34:48.764364Z",
     "iopub.status.busy": "2022-12-10T20:34:48.763971Z",
     "iopub.status.idle": "2022-12-10T20:34:48.790943Z",
     "shell.execute_reply": "2022-12-10T20:34:48.790274Z"
    },
    "papermill": {
     "duration": 0.034535,
     "end_time": "2022-12-10T20:34:48.793162",
     "exception": false,
     "start_time": "2022-12-10T20:34:48.758627",
     "status": "completed"
    },
    "tags": []
   },
   "outputs": [],
   "source": [
    "train_path = \"/kaggle/input/titanic/train.csv\"\n",
    "test_path = \"/kaggle/input/titanic/test.csv\"\n",
    "train_data = pd.read_csv(train_path)\n",
    "test_data = pd.read_csv(test_path)"
   ]
  },
  {
   "cell_type": "code",
   "execution_count": 4,
   "id": "0c49c749",
   "metadata": {
    "execution": {
     "iopub.execute_input": "2022-12-10T20:34:48.803867Z",
     "iopub.status.busy": "2022-12-10T20:34:48.803341Z",
     "iopub.status.idle": "2022-12-10T20:34:48.827665Z",
     "shell.execute_reply": "2022-12-10T20:34:48.826659Z"
    },
    "papermill": {
     "duration": 0.031847,
     "end_time": "2022-12-10T20:34:48.829518",
     "exception": false,
     "start_time": "2022-12-10T20:34:48.797671",
     "status": "completed"
    },
    "tags": []
   },
   "outputs": [
    {
     "data": {
      "text/html": [
       "<div>\n",
       "<style scoped>\n",
       "    .dataframe tbody tr th:only-of-type {\n",
       "        vertical-align: middle;\n",
       "    }\n",
       "\n",
       "    .dataframe tbody tr th {\n",
       "        vertical-align: top;\n",
       "    }\n",
       "\n",
       "    .dataframe thead th {\n",
       "        text-align: right;\n",
       "    }\n",
       "</style>\n",
       "<table border=\"1\" class=\"dataframe\">\n",
       "  <thead>\n",
       "    <tr style=\"text-align: right;\">\n",
       "      <th></th>\n",
       "      <th>PassengerId</th>\n",
       "      <th>Survived</th>\n",
       "      <th>Pclass</th>\n",
       "      <th>Name</th>\n",
       "      <th>Sex</th>\n",
       "      <th>Age</th>\n",
       "      <th>SibSp</th>\n",
       "      <th>Parch</th>\n",
       "      <th>Ticket</th>\n",
       "      <th>Fare</th>\n",
       "      <th>Cabin</th>\n",
       "      <th>Embarked</th>\n",
       "    </tr>\n",
       "  </thead>\n",
       "  <tbody>\n",
       "    <tr>\n",
       "      <th>0</th>\n",
       "      <td>1</td>\n",
       "      <td>0</td>\n",
       "      <td>3</td>\n",
       "      <td>Braund, Mr. Owen Harris</td>\n",
       "      <td>male</td>\n",
       "      <td>22.0</td>\n",
       "      <td>1</td>\n",
       "      <td>0</td>\n",
       "      <td>A/5 21171</td>\n",
       "      <td>7.2500</td>\n",
       "      <td>NaN</td>\n",
       "      <td>S</td>\n",
       "    </tr>\n",
       "    <tr>\n",
       "      <th>1</th>\n",
       "      <td>2</td>\n",
       "      <td>1</td>\n",
       "      <td>1</td>\n",
       "      <td>Cumings, Mrs. John Bradley (Florence Briggs Th...</td>\n",
       "      <td>female</td>\n",
       "      <td>38.0</td>\n",
       "      <td>1</td>\n",
       "      <td>0</td>\n",
       "      <td>PC 17599</td>\n",
       "      <td>71.2833</td>\n",
       "      <td>C85</td>\n",
       "      <td>C</td>\n",
       "    </tr>\n",
       "    <tr>\n",
       "      <th>2</th>\n",
       "      <td>3</td>\n",
       "      <td>1</td>\n",
       "      <td>3</td>\n",
       "      <td>Heikkinen, Miss. Laina</td>\n",
       "      <td>female</td>\n",
       "      <td>26.0</td>\n",
       "      <td>0</td>\n",
       "      <td>0</td>\n",
       "      <td>STON/O2. 3101282</td>\n",
       "      <td>7.9250</td>\n",
       "      <td>NaN</td>\n",
       "      <td>S</td>\n",
       "    </tr>\n",
       "    <tr>\n",
       "      <th>3</th>\n",
       "      <td>4</td>\n",
       "      <td>1</td>\n",
       "      <td>1</td>\n",
       "      <td>Futrelle, Mrs. Jacques Heath (Lily May Peel)</td>\n",
       "      <td>female</td>\n",
       "      <td>35.0</td>\n",
       "      <td>1</td>\n",
       "      <td>0</td>\n",
       "      <td>113803</td>\n",
       "      <td>53.1000</td>\n",
       "      <td>C123</td>\n",
       "      <td>S</td>\n",
       "    </tr>\n",
       "    <tr>\n",
       "      <th>4</th>\n",
       "      <td>5</td>\n",
       "      <td>0</td>\n",
       "      <td>3</td>\n",
       "      <td>Allen, Mr. William Henry</td>\n",
       "      <td>male</td>\n",
       "      <td>35.0</td>\n",
       "      <td>0</td>\n",
       "      <td>0</td>\n",
       "      <td>373450</td>\n",
       "      <td>8.0500</td>\n",
       "      <td>NaN</td>\n",
       "      <td>S</td>\n",
       "    </tr>\n",
       "  </tbody>\n",
       "</table>\n",
       "</div>"
      ],
      "text/plain": [
       "   PassengerId  Survived  Pclass  \\\n",
       "0            1         0       3   \n",
       "1            2         1       1   \n",
       "2            3         1       3   \n",
       "3            4         1       1   \n",
       "4            5         0       3   \n",
       "\n",
       "                                                Name     Sex   Age  SibSp  \\\n",
       "0                            Braund, Mr. Owen Harris    male  22.0      1   \n",
       "1  Cumings, Mrs. John Bradley (Florence Briggs Th...  female  38.0      1   \n",
       "2                             Heikkinen, Miss. Laina  female  26.0      0   \n",
       "3       Futrelle, Mrs. Jacques Heath (Lily May Peel)  female  35.0      1   \n",
       "4                           Allen, Mr. William Henry    male  35.0      0   \n",
       "\n",
       "   Parch            Ticket     Fare Cabin Embarked  \n",
       "0      0         A/5 21171   7.2500   NaN        S  \n",
       "1      0          PC 17599  71.2833   C85        C  \n",
       "2      0  STON/O2. 3101282   7.9250   NaN        S  \n",
       "3      0            113803  53.1000  C123        S  \n",
       "4      0            373450   8.0500   NaN        S  "
      ]
     },
     "execution_count": 4,
     "metadata": {},
     "output_type": "execute_result"
    }
   ],
   "source": [
    "train_data.head()"
   ]
  },
  {
   "cell_type": "code",
   "execution_count": 5,
   "id": "a0961353",
   "metadata": {
    "execution": {
     "iopub.execute_input": "2022-12-10T20:34:48.841299Z",
     "iopub.status.busy": "2022-12-10T20:34:48.840756Z",
     "iopub.status.idle": "2022-12-10T20:34:48.857051Z",
     "shell.execute_reply": "2022-12-10T20:34:48.855989Z"
    },
    "papermill": {
     "duration": 0.024827,
     "end_time": "2022-12-10T20:34:48.859534",
     "exception": false,
     "start_time": "2022-12-10T20:34:48.834707",
     "status": "completed"
    },
    "tags": []
   },
   "outputs": [],
   "source": [
    "features = [\"Pclass\", \"Sex\", \"SibSp\", \"Parch\", \"Fare\"]\n",
    "train_y = train_data[\"Survived\"]\n",
    "train_x = train_data[features]\n",
    "\n",
    "# test_y = test_data[\"Survived\"]\n",
    "test_x = test_data[features]"
   ]
  },
  {
   "cell_type": "markdown",
   "id": "bb0227fc",
   "metadata": {
    "papermill": {
     "duration": 0.004495,
     "end_time": "2022-12-10T20:34:48.869177",
     "exception": false,
     "start_time": "2022-12-10T20:34:48.864682",
     "status": "completed"
    },
    "tags": []
   },
   "source": [
    "**Converting gender strings using One Hot Encoding**"
   ]
  },
  {
   "cell_type": "code",
   "execution_count": 6,
   "id": "c05f3775",
   "metadata": {
    "execution": {
     "iopub.execute_input": "2022-12-10T20:34:48.879890Z",
     "iopub.status.busy": "2022-12-10T20:34:48.879514Z",
     "iopub.status.idle": "2022-12-10T20:34:48.891390Z",
     "shell.execute_reply": "2022-12-10T20:34:48.890430Z"
    },
    "papermill": {
     "duration": 0.019555,
     "end_time": "2022-12-10T20:34:48.893284",
     "exception": false,
     "start_time": "2022-12-10T20:34:48.873729",
     "status": "completed"
    },
    "tags": []
   },
   "outputs": [],
   "source": [
    "train_x = pd.get_dummies(train_x, drop_first=True, columns=[\"Sex\"])\n",
    "test_x = pd.get_dummies(test_x, drop_first=True, columns=[\"Sex\"])"
   ]
  },
  {
   "cell_type": "code",
   "execution_count": 7,
   "id": "03c7afa8",
   "metadata": {
    "execution": {
     "iopub.execute_input": "2022-12-10T20:34:48.904039Z",
     "iopub.status.busy": "2022-12-10T20:34:48.903689Z",
     "iopub.status.idle": "2022-12-10T20:34:48.913599Z",
     "shell.execute_reply": "2022-12-10T20:34:48.912708Z"
    },
    "papermill": {
     "duration": 0.017328,
     "end_time": "2022-12-10T20:34:48.915326",
     "exception": false,
     "start_time": "2022-12-10T20:34:48.897998",
     "status": "completed"
    },
    "tags": []
   },
   "outputs": [
    {
     "data": {
      "text/html": [
       "<div>\n",
       "<style scoped>\n",
       "    .dataframe tbody tr th:only-of-type {\n",
       "        vertical-align: middle;\n",
       "    }\n",
       "\n",
       "    .dataframe tbody tr th {\n",
       "        vertical-align: top;\n",
       "    }\n",
       "\n",
       "    .dataframe thead th {\n",
       "        text-align: right;\n",
       "    }\n",
       "</style>\n",
       "<table border=\"1\" class=\"dataframe\">\n",
       "  <thead>\n",
       "    <tr style=\"text-align: right;\">\n",
       "      <th></th>\n",
       "      <th>Pclass</th>\n",
       "      <th>SibSp</th>\n",
       "      <th>Parch</th>\n",
       "      <th>Fare</th>\n",
       "      <th>Sex_male</th>\n",
       "    </tr>\n",
       "  </thead>\n",
       "  <tbody>\n",
       "    <tr>\n",
       "      <th>0</th>\n",
       "      <td>3</td>\n",
       "      <td>1</td>\n",
       "      <td>0</td>\n",
       "      <td>7.2500</td>\n",
       "      <td>1</td>\n",
       "    </tr>\n",
       "    <tr>\n",
       "      <th>1</th>\n",
       "      <td>1</td>\n",
       "      <td>1</td>\n",
       "      <td>0</td>\n",
       "      <td>71.2833</td>\n",
       "      <td>0</td>\n",
       "    </tr>\n",
       "    <tr>\n",
       "      <th>2</th>\n",
       "      <td>3</td>\n",
       "      <td>0</td>\n",
       "      <td>0</td>\n",
       "      <td>7.9250</td>\n",
       "      <td>0</td>\n",
       "    </tr>\n",
       "    <tr>\n",
       "      <th>3</th>\n",
       "      <td>1</td>\n",
       "      <td>1</td>\n",
       "      <td>0</td>\n",
       "      <td>53.1000</td>\n",
       "      <td>0</td>\n",
       "    </tr>\n",
       "    <tr>\n",
       "      <th>4</th>\n",
       "      <td>3</td>\n",
       "      <td>0</td>\n",
       "      <td>0</td>\n",
       "      <td>8.0500</td>\n",
       "      <td>1</td>\n",
       "    </tr>\n",
       "  </tbody>\n",
       "</table>\n",
       "</div>"
      ],
      "text/plain": [
       "   Pclass  SibSp  Parch     Fare  Sex_male\n",
       "0       3      1      0   7.2500         1\n",
       "1       1      1      0  71.2833         0\n",
       "2       3      0      0   7.9250         0\n",
       "3       1      1      0  53.1000         0\n",
       "4       3      0      0   8.0500         1"
      ]
     },
     "execution_count": 7,
     "metadata": {},
     "output_type": "execute_result"
    }
   ],
   "source": [
    "train_x.head()"
   ]
  },
  {
   "cell_type": "code",
   "execution_count": 8,
   "id": "60cc679c",
   "metadata": {
    "execution": {
     "iopub.execute_input": "2022-12-10T20:34:48.926719Z",
     "iopub.status.busy": "2022-12-10T20:34:48.926155Z",
     "iopub.status.idle": "2022-12-10T20:34:48.943984Z",
     "shell.execute_reply": "2022-12-10T20:34:48.943060Z"
    },
    "papermill": {
     "duration": 0.026017,
     "end_time": "2022-12-10T20:34:48.946142",
     "exception": false,
     "start_time": "2022-12-10T20:34:48.920125",
     "status": "completed"
    },
    "tags": []
   },
   "outputs": [
    {
     "name": "stdout",
     "output_type": "stream",
     "text": [
      "<class 'pandas.core.frame.DataFrame'>\n",
      "RangeIndex: 418 entries, 0 to 417\n",
      "Data columns (total 5 columns):\n",
      " #   Column    Non-Null Count  Dtype  \n",
      "---  ------    --------------  -----  \n",
      " 0   Pclass    418 non-null    int64  \n",
      " 1   SibSp     418 non-null    int64  \n",
      " 2   Parch     418 non-null    int64  \n",
      " 3   Fare      417 non-null    float64\n",
      " 4   Sex_male  418 non-null    uint8  \n",
      "dtypes: float64(1), int64(3), uint8(1)\n",
      "memory usage: 13.6 KB\n"
     ]
    }
   ],
   "source": [
    "test_x.info()"
   ]
  },
  {
   "cell_type": "code",
   "execution_count": 9,
   "id": "4b1b8e7d",
   "metadata": {
    "execution": {
     "iopub.execute_input": "2022-12-10T20:34:48.957368Z",
     "iopub.status.busy": "2022-12-10T20:34:48.956976Z",
     "iopub.status.idle": "2022-12-10T20:34:48.962799Z",
     "shell.execute_reply": "2022-12-10T20:34:48.961577Z"
    },
    "papermill": {
     "duration": 0.013588,
     "end_time": "2022-12-10T20:34:48.964602",
     "exception": false,
     "start_time": "2022-12-10T20:34:48.951014",
     "status": "completed"
    },
    "tags": []
   },
   "outputs": [],
   "source": [
    "test_x[\"Fare\"].fillna(0, inplace=True)"
   ]
  },
  {
   "cell_type": "code",
   "execution_count": 10,
   "id": "e63a13b4",
   "metadata": {
    "execution": {
     "iopub.execute_input": "2022-12-10T20:34:48.975755Z",
     "iopub.status.busy": "2022-12-10T20:34:48.975083Z",
     "iopub.status.idle": "2022-12-10T20:34:48.987190Z",
     "shell.execute_reply": "2022-12-10T20:34:48.985764Z"
    },
    "papermill": {
     "duration": 0.019993,
     "end_time": "2022-12-10T20:34:48.989392",
     "exception": false,
     "start_time": "2022-12-10T20:34:48.969399",
     "status": "completed"
    },
    "tags": []
   },
   "outputs": [
    {
     "name": "stdout",
     "output_type": "stream",
     "text": [
      "<class 'pandas.core.frame.DataFrame'>\n",
      "RangeIndex: 418 entries, 0 to 417\n",
      "Data columns (total 5 columns):\n",
      " #   Column    Non-Null Count  Dtype  \n",
      "---  ------    --------------  -----  \n",
      " 0   Pclass    418 non-null    int64  \n",
      " 1   SibSp     418 non-null    int64  \n",
      " 2   Parch     418 non-null    int64  \n",
      " 3   Fare      418 non-null    float64\n",
      " 4   Sex_male  418 non-null    uint8  \n",
      "dtypes: float64(1), int64(3), uint8(1)\n",
      "memory usage: 13.6 KB\n"
     ]
    }
   ],
   "source": [
    "test_x.info()"
   ]
  },
  {
   "cell_type": "code",
   "execution_count": 11,
   "id": "c08c6817",
   "metadata": {
    "execution": {
     "iopub.execute_input": "2022-12-10T20:34:49.000912Z",
     "iopub.status.busy": "2022-12-10T20:34:49.000546Z",
     "iopub.status.idle": "2022-12-10T20:34:49.123717Z",
     "shell.execute_reply": "2022-12-10T20:34:49.122534Z"
    },
    "papermill": {
     "duration": 0.131841,
     "end_time": "2022-12-10T20:34:49.126255",
     "exception": false,
     "start_time": "2022-12-10T20:34:48.994414",
     "status": "completed"
    },
    "tags": []
   },
   "outputs": [
    {
     "data": {
      "text/plain": [
       "RandomForestRegressor(max_depth=3, random_state=2)"
      ]
     },
     "execution_count": 11,
     "metadata": {},
     "output_type": "execute_result"
    }
   ],
   "source": [
    "model = RandomForestRegressor(n_estimators=100, max_depth=3, random_state=2)\n",
    "model.fit(train_x, train_y)"
   ]
  },
  {
   "cell_type": "code",
   "execution_count": 12,
   "id": "01afc3f9",
   "metadata": {
    "execution": {
     "iopub.execute_input": "2022-12-10T20:34:49.137321Z",
     "iopub.status.busy": "2022-12-10T20:34:49.136973Z",
     "iopub.status.idle": "2022-12-10T20:34:49.156421Z",
     "shell.execute_reply": "2022-12-10T20:34:49.155438Z"
    },
    "papermill": {
     "duration": 0.026845,
     "end_time": "2022-12-10T20:34:49.158125",
     "exception": false,
     "start_time": "2022-12-10T20:34:49.131280",
     "status": "completed"
    },
    "tags": []
   },
   "outputs": [
    {
     "data": {
      "text/plain": [
       "array([0.0977712 , 0.6400969 , 0.11584447, 0.11278128, 0.53444574,\n",
       "       0.11278128, 0.6400969 , 0.30460089, 0.6400969 , 0.16722495,\n",
       "       0.0972498 , 0.21987372, 0.97703551, 0.19355087, 0.97703551,\n",
       "       0.94763381, 0.12942793, 0.09529028, 0.58975295, 0.6400969 ])"
      ]
     },
     "execution_count": 12,
     "metadata": {},
     "output_type": "execute_result"
    }
   ],
   "source": [
    "prediction = model.predict(test_x)\n",
    "prediction[:20]"
   ]
  },
  {
   "cell_type": "code",
   "execution_count": 13,
   "id": "35f6be9a",
   "metadata": {
    "execution": {
     "iopub.execute_input": "2022-12-10T20:34:49.170001Z",
     "iopub.status.busy": "2022-12-10T20:34:49.169053Z",
     "iopub.status.idle": "2022-12-10T20:34:49.175880Z",
     "shell.execute_reply": "2022-12-10T20:34:49.175013Z"
    },
    "papermill": {
     "duration": 0.014398,
     "end_time": "2022-12-10T20:34:49.177523",
     "exception": false,
     "start_time": "2022-12-10T20:34:49.163125",
     "status": "completed"
    },
    "tags": []
   },
   "outputs": [
    {
     "data": {
      "text/plain": [
       "array([0, 1, 0, 0, 1, 0, 1, 0, 1, 0, 0, 0, 1, 0, 1, 1, 0, 0, 1, 1])"
      ]
     },
     "execution_count": 13,
     "metadata": {},
     "output_type": "execute_result"
    }
   ],
   "source": [
    "prediction = np.where(prediction>0.5, 1, 0)\n",
    "prediction[:20]"
   ]
  },
  {
   "cell_type": "code",
   "execution_count": 14,
   "id": "9a5c1e2f",
   "metadata": {
    "execution": {
     "iopub.execute_input": "2022-12-10T20:34:49.189582Z",
     "iopub.status.busy": "2022-12-10T20:34:49.189199Z",
     "iopub.status.idle": "2022-12-10T20:34:49.195661Z",
     "shell.execute_reply": "2022-12-10T20:34:49.194488Z"
    },
    "papermill": {
     "duration": 0.01423,
     "end_time": "2022-12-10T20:34:49.197567",
     "exception": false,
     "start_time": "2022-12-10T20:34:49.183337",
     "status": "completed"
    },
    "tags": []
   },
   "outputs": [
    {
     "data": {
      "text/plain": [
       "numpy.ndarray"
      ]
     },
     "execution_count": 14,
     "metadata": {},
     "output_type": "execute_result"
    }
   ],
   "source": [
    "test_final = test_data[\"PassengerId\"]\n",
    "type(prediction)"
   ]
  },
  {
   "cell_type": "code",
   "execution_count": 15,
   "id": "04f61bfa",
   "metadata": {
    "execution": {
     "iopub.execute_input": "2022-12-10T20:34:49.209197Z",
     "iopub.status.busy": "2022-12-10T20:34:49.208682Z",
     "iopub.status.idle": "2022-12-10T20:34:49.215785Z",
     "shell.execute_reply": "2022-12-10T20:34:49.214290Z"
    },
    "papermill": {
     "duration": 0.015252,
     "end_time": "2022-12-10T20:34:49.217894",
     "exception": false,
     "start_time": "2022-12-10T20:34:49.202642",
     "status": "completed"
    },
    "tags": []
   },
   "outputs": [],
   "source": [
    "final_dataset = pd.DataFrame({\"PassengerId\": test_final[:], \"Survived\": prediction[:]})"
   ]
  },
  {
   "cell_type": "code",
   "execution_count": 16,
   "id": "928680b6",
   "metadata": {
    "execution": {
     "iopub.execute_input": "2022-12-10T20:34:49.229386Z",
     "iopub.status.busy": "2022-12-10T20:34:49.229030Z",
     "iopub.status.idle": "2022-12-10T20:34:49.241445Z",
     "shell.execute_reply": "2022-12-10T20:34:49.240092Z"
    },
    "papermill": {
     "duration": 0.020234,
     "end_time": "2022-12-10T20:34:49.243241",
     "exception": false,
     "start_time": "2022-12-10T20:34:49.223007",
     "status": "completed"
    },
    "tags": []
   },
   "outputs": [
    {
     "data": {
      "text/html": [
       "<div>\n",
       "<style scoped>\n",
       "    .dataframe tbody tr th:only-of-type {\n",
       "        vertical-align: middle;\n",
       "    }\n",
       "\n",
       "    .dataframe tbody tr th {\n",
       "        vertical-align: top;\n",
       "    }\n",
       "\n",
       "    .dataframe thead th {\n",
       "        text-align: right;\n",
       "    }\n",
       "</style>\n",
       "<table border=\"1\" class=\"dataframe\">\n",
       "  <thead>\n",
       "    <tr style=\"text-align: right;\">\n",
       "      <th></th>\n",
       "      <th>PassengerId</th>\n",
       "      <th>Survived</th>\n",
       "    </tr>\n",
       "  </thead>\n",
       "  <tbody>\n",
       "    <tr>\n",
       "      <th>0</th>\n",
       "      <td>892</td>\n",
       "      <td>0</td>\n",
       "    </tr>\n",
       "    <tr>\n",
       "      <th>1</th>\n",
       "      <td>893</td>\n",
       "      <td>1</td>\n",
       "    </tr>\n",
       "    <tr>\n",
       "      <th>2</th>\n",
       "      <td>894</td>\n",
       "      <td>0</td>\n",
       "    </tr>\n",
       "    <tr>\n",
       "      <th>3</th>\n",
       "      <td>895</td>\n",
       "      <td>0</td>\n",
       "    </tr>\n",
       "    <tr>\n",
       "      <th>4</th>\n",
       "      <td>896</td>\n",
       "      <td>1</td>\n",
       "    </tr>\n",
       "    <tr>\n",
       "      <th>...</th>\n",
       "      <td>...</td>\n",
       "      <td>...</td>\n",
       "    </tr>\n",
       "    <tr>\n",
       "      <th>413</th>\n",
       "      <td>1305</td>\n",
       "      <td>0</td>\n",
       "    </tr>\n",
       "    <tr>\n",
       "      <th>414</th>\n",
       "      <td>1306</td>\n",
       "      <td>1</td>\n",
       "    </tr>\n",
       "    <tr>\n",
       "      <th>415</th>\n",
       "      <td>1307</td>\n",
       "      <td>0</td>\n",
       "    </tr>\n",
       "    <tr>\n",
       "      <th>416</th>\n",
       "      <td>1308</td>\n",
       "      <td>0</td>\n",
       "    </tr>\n",
       "    <tr>\n",
       "      <th>417</th>\n",
       "      <td>1309</td>\n",
       "      <td>0</td>\n",
       "    </tr>\n",
       "  </tbody>\n",
       "</table>\n",
       "<p>418 rows × 2 columns</p>\n",
       "</div>"
      ],
      "text/plain": [
       "     PassengerId  Survived\n",
       "0            892         0\n",
       "1            893         1\n",
       "2            894         0\n",
       "3            895         0\n",
       "4            896         1\n",
       "..           ...       ...\n",
       "413         1305         0\n",
       "414         1306         1\n",
       "415         1307         0\n",
       "416         1308         0\n",
       "417         1309         0\n",
       "\n",
       "[418 rows x 2 columns]"
      ]
     },
     "execution_count": 16,
     "metadata": {},
     "output_type": "execute_result"
    }
   ],
   "source": [
    "final_dataset"
   ]
  },
  {
   "cell_type": "code",
   "execution_count": 17,
   "id": "1e279950",
   "metadata": {
    "execution": {
     "iopub.execute_input": "2022-12-10T20:34:49.255481Z",
     "iopub.status.busy": "2022-12-10T20:34:49.255087Z",
     "iopub.status.idle": "2022-12-10T20:34:49.263174Z",
     "shell.execute_reply": "2022-12-10T20:34:49.261969Z"
    },
    "papermill": {
     "duration": 0.016676,
     "end_time": "2022-12-10T20:34:49.265467",
     "exception": false,
     "start_time": "2022-12-10T20:34:49.248791",
     "status": "completed"
    },
    "tags": []
   },
   "outputs": [],
   "source": [
    "final_dataset.to_csv('titanic_final2.csv',index=False)"
   ]
  }
 ],
 "metadata": {
  "kernelspec": {
   "display_name": "Python 3",
   "language": "python",
   "name": "python3"
  },
  "language_info": {
   "codemirror_mode": {
    "name": "ipython",
    "version": 3
   },
   "file_extension": ".py",
   "mimetype": "text/x-python",
   "name": "python",
   "nbconvert_exporter": "python",
   "pygments_lexer": "ipython3",
   "version": "3.7.12"
  },
  "papermill": {
   "default_parameters": {},
   "duration": 11.371588,
   "end_time": "2022-12-10T20:34:49.996869",
   "environment_variables": {},
   "exception": null,
   "input_path": "__notebook__.ipynb",
   "output_path": "__notebook__.ipynb",
   "parameters": {},
   "start_time": "2022-12-10T20:34:38.625281",
   "version": "2.3.4"
  }
 },
 "nbformat": 4,
 "nbformat_minor": 5
}
